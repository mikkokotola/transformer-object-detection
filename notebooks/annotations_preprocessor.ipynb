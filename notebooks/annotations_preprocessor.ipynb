{
 "cells": [
  {
   "cell_type": "code",
   "execution_count": 1,
   "metadata": {},
   "outputs": [],
   "source": [
    "#!pip install -U pandas==1.1.4 --user\n",
    "#!pip install swifter --user"
   ]
  },
  {
   "cell_type": "code",
   "execution_count": 2,
   "metadata": {},
   "outputs": [],
   "source": [
    "%load_ext autoreload\n",
    "%autoreload 2"
   ]
  },
  {
   "cell_type": "code",
   "execution_count": 3,
   "metadata": {},
   "outputs": [],
   "source": [
    "import json\n",
    "import pandas as pd\n",
    "import math\n",
    "import swifter"
   ]
  },
  {
   "cell_type": "code",
   "execution_count": 20,
   "metadata": {},
   "outputs": [],
   "source": [
    "def getImageDataTable(annotationsJsonPath):\n",
    "    \n",
    "    with open(annotationsJsonPath) as json_file:\n",
    "        data = json.load(json_file)\n",
    "        table = pd.DataFrame.from_records(data[\"images\"])\n",
    "        \n",
    "    def calculateDimensions(row):\n",
    "        row[\"width_bigger\"] = row[\"width\"] >= row[\"height\"]\n",
    "        if row[\"width_bigger\"]:\n",
    "            row[\"ratio\"] = min(1333/row[\"width\"], 800/row[\"height\"])\n",
    "        else:\n",
    "            row[\"ratio\"] = min(1333/row[\"height\"], 800/row[\"width\"])\n",
    "        \n",
    "        row[\"scaled_width\"] = math.floor(row[\"width\"]*row[\"ratio\"])\n",
    "        row[\"scaled_height\"] = math.floor(row[\"height\"]*row[\"ratio\"])\n",
    "        \n",
    "        if row[\"width_bigger\"]:\n",
    "            paddedWidth = 1333-row[\"scaled_width\"]\n",
    "            paddedHeight = 800-row[\"scaled_height\"]\n",
    "        else:\n",
    "            paddedWidth = 800-row[\"scaled_width\"]\n",
    "            paddedHeight = 1333-row[\"scaled_height\"]\n",
    "            \n",
    "        row[\"padding_left\"] = paddedWidth//2\n",
    "        row[\"padding_right\"] = paddedWidth-(paddedWidth//2)\n",
    "        row[\"padding_top\"] = paddedHeight//2\n",
    "        row[\"padding_bottom\"] = paddedHeight-(paddedHeight//2)\n",
    "        return row\n",
    "    \n",
    "    table = table.swifter.apply(calculateDimensions, axis=1)\n",
    "    \n",
    "    return table.drop(columns=[\"license\", \"coco_url\", \"date_captured\", \"flickr_url\"])\n",
    "\n",
    "def getLabelDataTable(annotationsJsonPath, imagesTable):\n",
    "    with open(annotationsJsonPath) as json_file:\n",
    "        data = json.load(json_file)\n",
    "        annotations = pd.DataFrame.from_records(data[\"annotations\"])\n",
    "        categories = pd.DataFrame.from_records(data[\"categories\"])\n",
    "    \n",
    "    table = annotations.drop(columns=[\"segmentation\", \"area\", \"iscrowd\"])\n",
    "    \n",
    "    def formatBbox(row):\n",
    "        imageSeries = imagesTable[imagesTable[\"id\"] == row[\"image_id\"]].iloc[0]\n",
    "        \n",
    "        row[\"box_x\"] = row[\"bbox\"][0]\n",
    "        row[\"box_y\"] = row[\"bbox\"][1]\n",
    "        row[\"box_width\"] = row[\"bbox\"][2]\n",
    "        row[\"box_height\"] = row[\"bbox\"][3]\n",
    "        \n",
    "        row[\"box_center_x\"] = row[\"box_x\"] + row[\"box_width\"]//2\n",
    "        row[\"box_center_y\"] = row[\"box_y\"] + row[\"box_height\"]//2\n",
    "        \n",
    "        row[\"scaled_box_center_x\"] = math.floor(imageSeries[\"ratio\"]*row[\"box_center_x\"]) + imageSeries[\"padding_left\"]\n",
    "        row[\"scaled_box_center_y\"] = math.floor(imageSeries[\"ratio\"]*row[\"box_center_y\"]) + imageSeries[\"padding_top\"]\n",
    "        row[\"scaled_box_width\"] = math.floor(imageSeries[\"ratio\"]*row[\"box_width\"])\n",
    "        row[\"scaled_box_height\"] = math.floor(imageSeries[\"ratio\"]*row[\"box_height\"])\n",
    "        \n",
    "        if imageSeries[\"width_bigger\"]:\n",
    "            row[\"normalized_box_center_x\"] = row[\"scaled_box_center_x\"]/1333\n",
    "            row[\"normalized_box_center_y\"] = row[\"scaled_box_center_y\"]/800\n",
    "            row[\"normalized_box_width\"] = row[\"scaled_box_width\"]/1333\n",
    "            row[\"normalized_box_height\"] = row[\"scaled_box_height\"]/800\n",
    "        else:\n",
    "            row[\"normalized_box_center_x\"] = row[\"scaled_box_center_x\"]/800\n",
    "            row[\"normalized_box_center_y\"] = row[\"scaled_box_center_y\"]/1333\n",
    "            row[\"normalized_box_width\"] = row[\"scaled_box_width\"]/800\n",
    "            row[\"normalized_box_height\"] = row[\"scaled_box_height\"]/1333\n",
    "        \n",
    "        return row\n",
    "    \n",
    "    table = table.swifter.apply(formatBbox, axis=1).drop(columns=[\"bbox\"])\n",
    "    \n",
    "    table = table.merge(categories, left_on=\"category_id\", right_on=\"id\").drop(columns=\"id_y\")\n",
    "    \n",
    "    table = table.rename(columns={\"id_x\": \"id\", \"name\": \"category\"})\n",
    "    \n",
    "    return table\n",
    "\n"
   ]
  },
  {
   "cell_type": "code",
   "execution_count": 22,
   "metadata": {},
   "outputs": [
    {
     "data": {
      "application/vnd.jupyter.widget-view+json": {
       "model_id": "4a5aee9b8ac84404a7e8ddda5dae211c",
       "version_major": 2,
       "version_minor": 0
      },
      "text/plain": [
       "HBox(children=(FloatProgress(value=0.0, description='Pandas Apply', max=118287.0, style=ProgressStyle(descript…"
      ]
     },
     "metadata": {},
     "output_type": "display_data"
    },
    {
     "name": "stdout",
     "output_type": "stream",
     "text": [
      "\n"
     ]
    }
   ],
   "source": [
    "trainImagesTable = getImageDataTable(\"../data/annotations/instances_train2017.json\")\n",
    "trainImagesTable.to_csv(\"../data/annotations/cleaned_train_image_data.csv\", index=False)"
   ]
  },
  {
   "cell_type": "code",
   "execution_count": 23,
   "metadata": {},
   "outputs": [
    {
     "data": {
      "application/vnd.jupyter.widget-view+json": {
       "model_id": "f3ecc029c5de4f75b57d5e655f43decb",
       "version_major": 2,
       "version_minor": 0
      },
      "text/plain": [
       "HBox(children=(FloatProgress(value=0.0, description='Pandas Apply', max=860001.0, style=ProgressStyle(descript…"
      ]
     },
     "metadata": {},
     "output_type": "display_data"
    },
    {
     "name": "stdout",
     "output_type": "stream",
     "text": [
      "\n"
     ]
    }
   ],
   "source": [
    "trainLabelsTable = getLabelDataTable(\"../data/annotations/instances_train2017.json\", trainImagesTable)\n",
    "trainLabelsTable.to_csv(\"../data/annotations/cleaned_train_labels_data.csv\", index=False)\n",
    "del trainImagesTable\n",
    "del trainLabelsTable"
   ]
  },
  {
   "cell_type": "code",
   "execution_count": 18,
   "metadata": {},
   "outputs": [
    {
     "data": {
      "application/vnd.jupyter.widget-view+json": {
       "model_id": "05089c7b8eb04565a62794e0f1f3e996",
       "version_major": 2,
       "version_minor": 0
      },
      "text/plain": [
       "HBox(children=(FloatProgress(value=0.0, description='Pandas Apply', max=5000.0, style=ProgressStyle(descriptio…"
      ]
     },
     "metadata": {},
     "output_type": "display_data"
    },
    {
     "name": "stdout",
     "output_type": "stream",
     "text": [
      "\n"
     ]
    }
   ],
   "source": [
    "valImagesTable = getImageDataTable(\"../data/annotations/instances_val2017.json\")\n",
    "valImagesTable.to_csv(\"../data/annotations/cleaned_val_image_data.csv\", index=False)"
   ]
  },
  {
   "cell_type": "code",
   "execution_count": 21,
   "metadata": {},
   "outputs": [
    {
     "data": {
      "application/vnd.jupyter.widget-view+json": {
       "model_id": "a5c548c085cc44ea9ec0433d77f63033",
       "version_major": 2,
       "version_minor": 0
      },
      "text/plain": [
       "HBox(children=(FloatProgress(value=0.0, description='Pandas Apply', max=36781.0, style=ProgressStyle(descripti…"
      ]
     },
     "metadata": {},
     "output_type": "display_data"
    },
    {
     "name": "stdout",
     "output_type": "stream",
     "text": [
      "\n"
     ]
    }
   ],
   "source": [
    "valLabelsTable = getLabelDataTable(\"../data/annotations/instances_val2017.json\", valImagesTable)\n",
    "valLabelsTable.to_csv(\"../data/annotations/cleaned_val_labels_data.csv\", index=False)\n",
    "del valImagesTable\n",
    "del valLabelsTable"
   ]
  },
  {
   "cell_type": "code",
   "execution_count": null,
   "metadata": {},
   "outputs": [],
   "source": []
  }
 ],
 "metadata": {
  "kernelspec": {
   "display_name": "Python 3",
   "language": "python",
   "name": "python3"
  },
  "language_info": {
   "codemirror_mode": {
    "name": "ipython",
    "version": 3
   },
   "file_extension": ".py",
   "mimetype": "text/x-python",
   "name": "python",
   "nbconvert_exporter": "python",
   "pygments_lexer": "ipython3",
   "version": "3.7.6"
  }
 },
 "nbformat": 4,
 "nbformat_minor": 4
}
